{
 "cells": [
  {
   "cell_type": "markdown",
   "id": "facial-illinois",
   "metadata": {},
   "source": [
    "## Generate SPSS Sav\n",
    "\n",
    "*Last update: 2021-10-29*"
   ]
  },
  {
   "cell_type": "code",
   "execution_count": 2,
   "id": "common-merchant",
   "metadata": {},
   "outputs": [],
   "source": [
    "import pandas as pd\n",
    "import numpy as np\n",
    "import os\n",
    "import json\n",
    "import seaborn as sns\n",
    "import matplotlib.pyplot as plt\n",
    "from pathlib import Path\n",
    "import importlib\n",
    "from scipy.stats import circvar, circstd, pearsonr\n",
    "import pyreadstat\n",
    "\n",
    "from trial import Trial\n",
    "from util import dist\n",
    "from constants import COND_LABELS, FS\n",
    "import plots\n",
    "import analysis_helper\n",
    "\n",
    "\n",
    "importlib.reload(plots)\n",
    "importlib.reload(analysis_helper)\n",
    "\n",
    "plt.style.use('./jg.mplstyle')"
   ]
  },
  {
   "cell_type": "markdown",
   "id": "senior-think",
   "metadata": {},
   "source": [
    "### Load data"
   ]
  },
  {
   "cell_type": "code",
   "execution_count": 3,
   "id": "normal-stomach",
   "metadata": {},
   "outputs": [],
   "source": [
    "df_trials = pd.read_pickle('../data/df_trials_v4_spatial.pickle')\n",
    "\n",
    "df_trials['second_mover_delay'] = df_trials['second_mover_time'] - df_trials['first_mover_time']"
   ]
  },
  {
   "cell_type": "code",
   "execution_count": 4,
   "id": "transparent-engagement",
   "metadata": {},
   "outputs": [],
   "source": [
    "DVs = ['fairness', 'goal_color_split', 'total_moves', 'successful', 'score']"
   ]
  },
  {
   "cell_type": "markdown",
   "id": "identified-count",
   "metadata": {},
   "source": [
    "### Drop dyads with incomplete trial counts"
   ]
  },
  {
   "cell_type": "code",
   "execution_count": 5,
   "id": "arctic-narrow",
   "metadata": {},
   "outputs": [],
   "source": [
    "# Drop practice\n",
    "df_trials = df_trials[df_trials.practice == 0]"
   ]
  },
  {
   "cell_type": "markdown",
   "id": "conceptual-newport",
   "metadata": {},
   "source": [
    "### Prepare data in subject observation format for SPSS ANOVAs"
   ]
  },
  {
   "cell_type": "code",
   "execution_count": 7,
   "id": "vietnamese-softball",
   "metadata": {},
   "outputs": [],
   "source": [
    "# Want 1 row per subject, and to aggregate each dv across the within-subject factors\n",
    "# so e.g. goal_pct_diff_bal:e | goal_pct_diff_bal:fb | goal_pct_diff_count:g | goal_pct_diff_count:c\n",
    "# We'll then use these as 2 2-level within-subjects factors in SPSS's repeated measures general linear model."
   ]
  },
  {
   "cell_type": "code",
   "execution_count": 6,
   "id": "spatial-honey",
   "metadata": {},
   "outputs": [],
   "source": [
    "# For analysis of \"steady state\" behavior\n",
    "in_second_block_half = ((df_trials.trial > 20) & (df_trials.trial <= 40)) | ((df_trials.trial >= 62))"
   ]
  },
  {
   "cell_type": "code",
   "execution_count": 9,
   "id": "severe-referral",
   "metadata": {},
   "outputs": [],
   "source": [
    "match_nicks = df_trials.match_nick.unique()\n",
    "count_levels = [\"C\", \"G\"]\n",
    "bal_levels = ['E', 'FB']\n",
    "df_subj_spss = pd.DataFrame(columns=[\"group\"])\n",
    "df_trials['h2'] = 0\n",
    "df_trials.loc[in_second_block_half, 'h2'] = 1\n",
    "dv_grouped = df_trials.groupby(['match_nick', 'cond_count', 'cond_bal'])[DVs].mean()\n",
    "dv_grouped_h2 = df_trials[df_trials.h2 == 1].groupby(['match_nick', 'cond_count', 'cond_bal'])[DVs].mean()\n",
    "data = {}  # match_nick -> data\n",
    "for key, row in dv_grouped.iterrows():\n",
    "    match_nick, count, bal = key\n",
    "    for dv in DVs:\n",
    "        for count in count_levels:\n",
    "            for bal in bal_levels:\n",
    "                if match_nick not in data:\n",
    "                    data[match_nick] = {}\n",
    "                data[match_nick][\"%s_count_%s_bal_%s\" % (dv, count, bal)] = dv_grouped.loc[match_nick, count, bal][dv]\n",
    "                data[match_nick][\"%s_count_%s_bal_%s_h2\" % (dv, count, bal)] = dv_grouped_h2.loc[match_nick, count, bal][dv]\n",
    "\n",
    "for nick, row in data.items():\n",
    "    sample_trial = df_trials[df_trials.match_nick == nick].iloc[0]\n",
    "    row[\"group\"] = 1 if sample_trial.first_counter_block == \"C\" else 2\n",
    "    row[\"match_nick\"] = nick\n",
    "    df_subj_spss = pd.concat([df_subj_spss, pd.Series(row, name=nick).to_frame().T], ignore_index=True)\n",
    "\n",
    "df_subj_spss.group = df_subj_spss.group.astype(int)"
   ]
  },
  {
   "cell_type": "code",
   "execution_count": 17,
   "id": "structured-quick",
   "metadata": {},
   "outputs": [],
   "source": [
    "pyreadstat.write_sav(df_subj_spss, '../data/df_subjs_v4_spss.sav')"
   ]
  }
 ],
 "metadata": {
  "kernelspec": {
   "display_name": "Python 3 (ipykernel)",
   "language": "python",
   "name": "python3"
  },
  "language_info": {
   "codemirror_mode": {
    "name": "ipython",
    "version": 3
   },
   "file_extension": ".py",
   "mimetype": "text/x-python",
   "name": "python",
   "nbconvert_exporter": "python",
   "pygments_lexer": "ipython3",
   "version": "3.10.8"
  }
 },
 "nbformat": 4,
 "nbformat_minor": 5
}
